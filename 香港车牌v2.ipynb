{
  "nbformat": 4,
  "nbformat_minor": 0,
  "metadata": {
    "colab": {
      "name": "香港车牌v2.ipynb",
      "provenance": [],
      "collapsed_sections": []
    },
    "kernelspec": {
      "name": "python3",
      "display_name": "Python 3"
    },
    "language_info": {
      "name": "python"
    },
    "accelerator": "GPU"
  },
  "cells": [
    {
      "cell_type": "code",
      "metadata": {
        "id": "rIdc_06ewO8o",
        "colab": {
          "base_uri": "https://localhost:8080/",
          "height": 1000
        },
        "outputId": "7008000e-ce6d-41ca-824d-ec420f7799be"
      },
      "source": [
        "# 环境安装\n",
        "!pip uninstall tensorflow-gpu -y\n",
        "!pip uninstall -y tensorflow\n",
        "!pip install gast==0.3.2\n",
        "!pip install tensorflow-gpu==1.14.0\n",
        "!pip install easyocr"
      ],
      "execution_count": 2,
      "outputs": [
        {
          "output_type": "stream",
          "text": [
            "\u001b[33mWARNING: Skipping tensorflow-gpu as it is not installed.\u001b[0m\n",
            "Uninstalling tensorflow-2.5.0:\n",
            "  Successfully uninstalled tensorflow-2.5.0\n",
            "Collecting gast==0.3.2\n",
            "  Downloading https://files.pythonhosted.org/packages/1f/04/4e36c33f8eb5c5b6c622a1f4859352a6acca7ab387257d4b3c191d23ec1d/gast-0.3.2.tar.gz\n",
            "Building wheels for collected packages: gast\n",
            "  Building wheel for gast (setup.py) ... \u001b[?25l\u001b[?25hdone\n",
            "  Created wheel for gast: filename=gast-0.3.2-cp37-none-any.whl size=9695 sha256=a214ef7c2f2e841496c4d152ae4f49dbb4b2c591e689ad5288399be1ded5f654\n",
            "  Stored in directory: /root/.cache/pip/wheels/59/38/c6/234dc39b4f6951a0768fbc02d5b7207137a5b1d9094f0d54bf\n",
            "Successfully built gast\n",
            "Installing collected packages: gast\n",
            "  Found existing installation: gast 0.4.0\n",
            "    Uninstalling gast-0.4.0:\n",
            "      Successfully uninstalled gast-0.4.0\n",
            "Successfully installed gast-0.3.2\n"
          ],
          "name": "stdout"
        },
        {
          "output_type": "display_data",
          "data": {
            "application/vnd.colab-display-data+json": {
              "pip_warning": {
                "packages": [
                  "gast"
                ]
              }
            }
          },
          "metadata": {
            "tags": []
          }
        },
        {
          "output_type": "stream",
          "text": [
            "Collecting tensorflow-gpu==1.14.0\n",
            "\u001b[?25l  Downloading https://files.pythonhosted.org/packages/32/67/559ca8408431c37ad3a17e859c8c291ea82f092354074baef482b98ffb7b/tensorflow_gpu-1.14.0-cp37-cp37m-manylinux1_x86_64.whl (377.1MB)\n",
            "\u001b[K     |████████████████████████████████| 377.1MB 45kB/s \n",
            "\u001b[?25hRequirement already satisfied: wheel>=0.26 in /usr/local/lib/python3.7/dist-packages (from tensorflow-gpu==1.14.0) (0.36.2)\n",
            "Requirement already satisfied: google-pasta>=0.1.6 in /usr/local/lib/python3.7/dist-packages (from tensorflow-gpu==1.14.0) (0.2.0)\n",
            "Requirement already satisfied: gast>=0.2.0 in /usr/local/lib/python3.7/dist-packages (from tensorflow-gpu==1.14.0) (0.3.2)\n",
            "Collecting keras-applications>=1.0.6\n",
            "\u001b[?25l  Downloading https://files.pythonhosted.org/packages/71/e3/19762fdfc62877ae9102edf6342d71b28fbfd9dea3d2f96a882ce099b03f/Keras_Applications-1.0.8-py3-none-any.whl (50kB)\n",
            "\u001b[K     |████████████████████████████████| 51kB 7.1MB/s \n",
            "\u001b[?25hRequirement already satisfied: wrapt>=1.11.1 in /usr/local/lib/python3.7/dist-packages (from tensorflow-gpu==1.14.0) (1.12.1)\n",
            "Requirement already satisfied: termcolor>=1.1.0 in /usr/local/lib/python3.7/dist-packages (from tensorflow-gpu==1.14.0) (1.1.0)\n",
            "Collecting tensorflow-estimator<1.15.0rc0,>=1.14.0rc0\n",
            "\u001b[?25l  Downloading https://files.pythonhosted.org/packages/3c/d5/21860a5b11caf0678fbc8319341b0ae21a07156911132e0e71bffed0510d/tensorflow_estimator-1.14.0-py2.py3-none-any.whl (488kB)\n",
            "\u001b[K     |████████████████████████████████| 491kB 53.3MB/s \n",
            "\u001b[?25hRequirement already satisfied: grpcio>=1.8.6 in /usr/local/lib/python3.7/dist-packages (from tensorflow-gpu==1.14.0) (1.34.1)\n",
            "Requirement already satisfied: astor>=0.6.0 in /usr/local/lib/python3.7/dist-packages (from tensorflow-gpu==1.14.0) (0.8.1)\n",
            "Requirement already satisfied: six>=1.10.0 in /usr/local/lib/python3.7/dist-packages (from tensorflow-gpu==1.14.0) (1.15.0)\n",
            "Requirement already satisfied: keras-preprocessing>=1.0.5 in /usr/local/lib/python3.7/dist-packages (from tensorflow-gpu==1.14.0) (1.1.2)\n",
            "Collecting tensorboard<1.15.0,>=1.14.0\n",
            "\u001b[?25l  Downloading https://files.pythonhosted.org/packages/91/2d/2ed263449a078cd9c8a9ba50ebd50123adf1f8cfbea1492f9084169b89d9/tensorboard-1.14.0-py3-none-any.whl (3.1MB)\n",
            "\u001b[K     |████████████████████████████████| 3.2MB 46.5MB/s \n",
            "\u001b[?25hRequirement already satisfied: numpy<2.0,>=1.14.5 in /usr/local/lib/python3.7/dist-packages (from tensorflow-gpu==1.14.0) (1.19.5)\n",
            "Requirement already satisfied: protobuf>=3.6.1 in /usr/local/lib/python3.7/dist-packages (from tensorflow-gpu==1.14.0) (3.12.4)\n",
            "Requirement already satisfied: absl-py>=0.7.0 in /usr/local/lib/python3.7/dist-packages (from tensorflow-gpu==1.14.0) (0.12.0)\n",
            "Requirement already satisfied: h5py in /usr/local/lib/python3.7/dist-packages (from keras-applications>=1.0.6->tensorflow-gpu==1.14.0) (3.1.0)\n",
            "Requirement already satisfied: markdown>=2.6.8 in /usr/local/lib/python3.7/dist-packages (from tensorboard<1.15.0,>=1.14.0->tensorflow-gpu==1.14.0) (3.3.4)\n",
            "Requirement already satisfied: werkzeug>=0.11.15 in /usr/local/lib/python3.7/dist-packages (from tensorboard<1.15.0,>=1.14.0->tensorflow-gpu==1.14.0) (1.0.1)\n",
            "Requirement already satisfied: setuptools>=41.0.0 in /usr/local/lib/python3.7/dist-packages (from tensorboard<1.15.0,>=1.14.0->tensorflow-gpu==1.14.0) (57.0.0)\n",
            "Requirement already satisfied: cached-property; python_version < \"3.8\" in /usr/local/lib/python3.7/dist-packages (from h5py->keras-applications>=1.0.6->tensorflow-gpu==1.14.0) (1.5.2)\n",
            "Requirement already satisfied: importlib-metadata; python_version < \"3.8\" in /usr/local/lib/python3.7/dist-packages (from markdown>=2.6.8->tensorboard<1.15.0,>=1.14.0->tensorflow-gpu==1.14.0) (4.0.1)\n",
            "Requirement already satisfied: zipp>=0.5 in /usr/local/lib/python3.7/dist-packages (from importlib-metadata; python_version < \"3.8\"->markdown>=2.6.8->tensorboard<1.15.0,>=1.14.0->tensorflow-gpu==1.14.0) (3.4.1)\n",
            "Requirement already satisfied: typing-extensions>=3.6.4; python_version < \"3.8\" in /usr/local/lib/python3.7/dist-packages (from importlib-metadata; python_version < \"3.8\"->markdown>=2.6.8->tensorboard<1.15.0,>=1.14.0->tensorflow-gpu==1.14.0) (3.7.4.3)\n",
            "Installing collected packages: keras-applications, tensorflow-estimator, tensorboard, tensorflow-gpu\n",
            "  Found existing installation: tensorflow-estimator 2.5.0\n",
            "    Uninstalling tensorflow-estimator-2.5.0:\n",
            "      Successfully uninstalled tensorflow-estimator-2.5.0\n",
            "  Found existing installation: tensorboard 2.5.0\n",
            "    Uninstalling tensorboard-2.5.0:\n",
            "      Successfully uninstalled tensorboard-2.5.0\n",
            "Successfully installed keras-applications-1.0.8 tensorboard-1.14.0 tensorflow-estimator-1.14.0 tensorflow-gpu-1.14.0\n"
          ],
          "name": "stdout"
        },
        {
          "output_type": "display_data",
          "data": {
            "application/vnd.colab-display-data+json": {
              "pip_warning": {
                "packages": [
                  "tensorboard",
                  "tensorflow"
                ]
              }
            }
          },
          "metadata": {
            "tags": []
          }
        },
        {
          "output_type": "stream",
          "text": [
            "Collecting easyocr\n",
            "\u001b[?25l  Downloading https://files.pythonhosted.org/packages/9d/b4/6a402a7ec3890e94313a7d2804190713e2c942371b39c7ccd9070280bc36/easyocr-1.3.2-py3-none-any.whl (63.2MB)\n",
            "\u001b[K     |████████████████████████████████| 63.2MB 46kB/s \n",
            "\u001b[?25hCollecting python-bidi\n",
            "  Downloading https://files.pythonhosted.org/packages/33/b0/f942d146a2f457233baaafd6bdf624eba8e0f665045b4abd69d1b62d097d/python_bidi-0.4.2-py2.py3-none-any.whl\n",
            "Requirement already satisfied: Pillow in /usr/local/lib/python3.7/dist-packages (from easyocr) (7.1.2)\n",
            "Requirement already satisfied: torch in /usr/local/lib/python3.7/dist-packages (from easyocr) (1.8.1+cu101)\n",
            "Requirement already satisfied: opencv-python in /usr/local/lib/python3.7/dist-packages (from easyocr) (4.1.2.30)\n",
            "Requirement already satisfied: numpy in /usr/local/lib/python3.7/dist-packages (from easyocr) (1.19.5)\n",
            "Requirement already satisfied: scikit-image in /usr/local/lib/python3.7/dist-packages (from easyocr) (0.16.2)\n",
            "Requirement already satisfied: torchvision>=0.5 in /usr/local/lib/python3.7/dist-packages (from easyocr) (0.9.1+cu101)\n",
            "Requirement already satisfied: PyYAML in /usr/local/lib/python3.7/dist-packages (from easyocr) (3.13)\n",
            "Requirement already satisfied: scipy in /usr/local/lib/python3.7/dist-packages (from easyocr) (1.4.1)\n",
            "Requirement already satisfied: six in /usr/local/lib/python3.7/dist-packages (from python-bidi->easyocr) (1.15.0)\n",
            "Requirement already satisfied: typing-extensions in /usr/local/lib/python3.7/dist-packages (from torch->easyocr) (3.7.4.3)\n",
            "Requirement already satisfied: networkx>=2.0 in /usr/local/lib/python3.7/dist-packages (from scikit-image->easyocr) (2.5.1)\n",
            "Requirement already satisfied: PyWavelets>=0.4.0 in /usr/local/lib/python3.7/dist-packages (from scikit-image->easyocr) (1.1.1)\n",
            "Requirement already satisfied: imageio>=2.3.0 in /usr/local/lib/python3.7/dist-packages (from scikit-image->easyocr) (2.4.1)\n",
            "Requirement already satisfied: matplotlib!=3.0.0,>=2.0.0 in /usr/local/lib/python3.7/dist-packages (from scikit-image->easyocr) (3.2.2)\n",
            "Requirement already satisfied: decorator<5,>=4.3 in /usr/local/lib/python3.7/dist-packages (from networkx>=2.0->scikit-image->easyocr) (4.4.2)\n",
            "Requirement already satisfied: python-dateutil>=2.1 in /usr/local/lib/python3.7/dist-packages (from matplotlib!=3.0.0,>=2.0.0->scikit-image->easyocr) (2.8.1)\n",
            "Requirement already satisfied: kiwisolver>=1.0.1 in /usr/local/lib/python3.7/dist-packages (from matplotlib!=3.0.0,>=2.0.0->scikit-image->easyocr) (1.3.1)\n",
            "Requirement already satisfied: cycler>=0.10 in /usr/local/lib/python3.7/dist-packages (from matplotlib!=3.0.0,>=2.0.0->scikit-image->easyocr) (0.10.0)\n",
            "Requirement already satisfied: pyparsing!=2.0.4,!=2.1.2,!=2.1.6,>=2.0.1 in /usr/local/lib/python3.7/dist-packages (from matplotlib!=3.0.0,>=2.0.0->scikit-image->easyocr) (2.4.7)\n",
            "Installing collected packages: python-bidi, easyocr\n",
            "Successfully installed easyocr-1.3.2 python-bidi-0.4.2\n"
          ],
          "name": "stdout"
        }
      ]
    },
    {
      "cell_type": "code",
      "metadata": {
        "id": "OZavtsmCwYpY",
        "colab": {
          "base_uri": "https://localhost:8080/"
        },
        "outputId": "3668bff8-927b-4963-98f0-9dc5783d45f9"
      },
      "source": [
        "import os\n",
        "import pathlib\n",
        "if \"models\" in pathlib.Path.cwd().parts:\n",
        "  while \"models\" in pathlib.Path.cwd().parts:\n",
        "    os.chdir('..')\n",
        "elif not pathlib.Path('models').exists():\n",
        "  !git clone --depth 1 https://github.com/tensorflow/models"
      ],
      "execution_count": 1,
      "outputs": [
        {
          "output_type": "stream",
          "text": [
            "Cloning into 'models'...\n",
            "remote: Enumerating objects: 2689, done.\u001b[K\n",
            "remote: Counting objects: 100% (2689/2689), done.\u001b[K\n",
            "remote: Compressing objects: 100% (2237/2237), done.\u001b[K\n",
            "remote: Total 2689 (delta 681), reused 1242 (delta 419), pack-reused 0\u001b[K\n",
            "Receiving objects: 100% (2689/2689), 32.67 MiB | 34.00 MiB/s, done.\n",
            "Resolving deltas: 100% (681/681), done.\n"
          ],
          "name": "stdout"
        }
      ]
    },
    {
      "cell_type": "code",
      "metadata": {
        "colab": {
          "base_uri": "https://localhost:8080/"
        },
        "id": "7RIdiIAdwfr2",
        "outputId": "4289c2cd-433c-49d9-b12c-9d1d09856493"
      },
      "source": [
        "%%bash \n",
        "cd models/research\n",
        "# Compile protos.\n",
        "protoc object_detection/protos/*.proto --python_out=.\n",
        "# Install TensorFlow Object Detection API.\n",
        "cp object_detection/packages/tf1/setup.py .\n",
        "python -m pip install ."
      ],
      "execution_count": 2,
      "outputs": [
        {
          "output_type": "stream",
          "text": [
            "Processing /content/models/research\n",
            "Requirement already satisfied: pillow in /usr/local/lib/python3.7/dist-packages (from object-detection==0.1) (7.1.2)\n",
            "Requirement already satisfied: lxml in /usr/local/lib/python3.7/dist-packages (from object-detection==0.1) (4.2.6)\n",
            "Requirement already satisfied: matplotlib in /usr/local/lib/python3.7/dist-packages (from object-detection==0.1) (3.2.2)\n",
            "Requirement already satisfied: Cython in /usr/local/lib/python3.7/dist-packages (from object-detection==0.1) (0.29.23)\n",
            "Requirement already satisfied: contextlib2 in /usr/local/lib/python3.7/dist-packages (from object-detection==0.1) (0.5.5)\n",
            "Collecting tf-slim\n",
            "  Downloading https://files.pythonhosted.org/packages/02/97/b0f4a64df018ca018cc035d44f2ef08f91e2e8aa67271f6f19633a015ff7/tf_slim-1.1.0-py2.py3-none-any.whl (352kB)\n",
            "Requirement already satisfied: six in /usr/local/lib/python3.7/dist-packages (from object-detection==0.1) (1.15.0)\n",
            "Requirement already satisfied: pycocotools in /usr/local/lib/python3.7/dist-packages (from object-detection==0.1) (2.0.2)\n",
            "Collecting lvis\n",
            "  Downloading https://files.pythonhosted.org/packages/72/b6/1992240ab48310b5360bfdd1d53163f43bb97d90dc5dc723c67d41c38e78/lvis-0.5.3-py3-none-any.whl\n",
            "Requirement already satisfied: scipy in /usr/local/lib/python3.7/dist-packages (from object-detection==0.1) (1.4.1)\n",
            "Requirement already satisfied: pandas in /usr/local/lib/python3.7/dist-packages (from object-detection==0.1) (1.1.5)\n",
            "Requirement already satisfied: numpy>=1.11 in /usr/local/lib/python3.7/dist-packages (from matplotlib->object-detection==0.1) (1.19.5)\n",
            "Requirement already satisfied: python-dateutil>=2.1 in /usr/local/lib/python3.7/dist-packages (from matplotlib->object-detection==0.1) (2.8.1)\n",
            "Requirement already satisfied: kiwisolver>=1.0.1 in /usr/local/lib/python3.7/dist-packages (from matplotlib->object-detection==0.1) (1.3.1)\n",
            "Requirement already satisfied: cycler>=0.10 in /usr/local/lib/python3.7/dist-packages (from matplotlib->object-detection==0.1) (0.10.0)\n",
            "Requirement already satisfied: pyparsing!=2.0.4,!=2.1.2,!=2.1.6,>=2.0.1 in /usr/local/lib/python3.7/dist-packages (from matplotlib->object-detection==0.1) (2.4.7)\n",
            "Requirement already satisfied: absl-py>=0.2.2 in /usr/local/lib/python3.7/dist-packages (from tf-slim->object-detection==0.1) (0.12.0)\n",
            "Requirement already satisfied: setuptools>=18.0 in /usr/local/lib/python3.7/dist-packages (from pycocotools->object-detection==0.1) (57.0.0)\n",
            "Requirement already satisfied: opencv-python>=4.1.0.25 in /usr/local/lib/python3.7/dist-packages (from lvis->object-detection==0.1) (4.1.2.30)\n",
            "Requirement already satisfied: pytz>=2017.2 in /usr/local/lib/python3.7/dist-packages (from pandas->object-detection==0.1) (2018.9)\n",
            "Building wheels for collected packages: object-detection\n",
            "  Building wheel for object-detection (setup.py): started\n",
            "  Building wheel for object-detection (setup.py): finished with status 'done'\n",
            "  Created wheel for object-detection: filename=object_detection-0.1-cp37-none-any.whl size=1652691 sha256=471f400928450d1aec7c07b4ecb6b3a088fac61596e6ae9a88aceba626ab7ddf\n",
            "  Stored in directory: /tmp/pip-ephem-wheel-cache-_xajta0f/wheels/94/49/4b/39b051683087a22ef7e80ec52152a27249d1a644ccf4e442ea\n",
            "Successfully built object-detection\n",
            "Installing collected packages: tf-slim, lvis, object-detection\n",
            "Successfully installed lvis-0.5.3 object-detection-0.1 tf-slim-1.1.0\n"
          ],
          "name": "stdout"
        }
      ]
    },
    {
      "cell_type": "code",
      "metadata": {
        "colab": {
          "base_uri": "https://localhost:8080/"
        },
        "id": "9Fno8ZDDdGI7",
        "outputId": "0354f760-22f7-4cc2-ca95-259b64e67283"
      },
      "source": [
        "!git clone https://github.com/wAikAp/Car-License-Plate-Recognition\n",
        "%cd Car-License-Plate-Recognition"
      ],
      "execution_count": 3,
      "outputs": [
        {
          "output_type": "stream",
          "text": [
            "Cloning into 'Car-License-Plate-Recognition'...\n",
            "remote: Enumerating objects: 64, done.\u001b[K\n",
            "remote: Total 64 (delta 0), reused 0 (delta 0), pack-reused 64\u001b[K\n",
            "Unpacking objects: 100% (64/64), done.\n",
            "Checking out files: 100% (30/30), done.\n",
            "/content/Car-License-Plate-Recognition\n"
          ],
          "name": "stdout"
        }
      ]
    },
    {
      "cell_type": "code",
      "metadata": {
        "id": "Cg23cnPVwvnF"
      },
      "source": [
        "#\n",
        "import numpy as np\n",
        "import os\n",
        "import sys\n",
        "import tensorflow as tf\n",
        "import cv2\n",
        "import matplotlib as mpl\n",
        "from matplotlib import pyplot as plt\n",
        "from PIL import Image, ImageDraw, ImageFont\n",
        "from object_detection.utils import ops as utils_ops\n",
        "from object_detection.utils import label_map_util\n",
        "from object_detection.utils import visualization_utils as vis_util\n",
        "tf.compat.v1.disable_eager_execution()\n",
        "import easyocr\n",
        "reader = easyocr.Reader(['en'])\n",
        "#store the img list\n",
        "MODEL_NAME = './car_plate_model_110K'\n",
        "PATH_TO_FROZEN_GRAPH = MODEL_NAME + '/frozen_inference_graph.pb'\n",
        "PATH_TO_LABELS = './labelmap/labelmap.pbtxt'\n",
        "font = ImageFont.truetype('./font/Uknumberplate-A4Vx.ttf', 30)"
      ],
      "execution_count": 14,
      "outputs": []
    },
    {
      "cell_type": "code",
      "metadata": {
        "id": "UxhPeWnlw58V"
      },
      "source": [
        " \n",
        "def load_images_to_array(inDirectory):    \n",
        "    for img in os.listdir(inDirectory):\n",
        "\n",
        "        if os.path.splitext(img)[-1] == '.jpg' or os.path.splitext(img)[-1] == '.jpeg' or os.path.splitext(img)[-1] == '.JPG' or os.path.splitext(img)[-1] == '.png' or os.path.splitext(img)[-1] == '.PNG':\n",
        "            orgimg_list.append(img)"
      ],
      "execution_count": 5,
      "outputs": []
    },
    {
      "cell_type": "code",
      "metadata": {
        "id": "OKPsOTBCxxlC"
      },
      "source": [
        "def load_image_into_numpy_array(image):\n",
        "    (im_width, im_height) = image.size\n",
        "    return np.array(image.getdata()).reshape(\n",
        "        (im_height, im_width, 3)).astype(np.uint8)"
      ],
      "execution_count": 6,
      "outputs": []
    },
    {
      "cell_type": "code",
      "metadata": {
        "id": "76F7Ek1-xzgk"
      },
      "source": [
        "def run_inference_for_single_image(image, graph):\n",
        "    with graph.as_default():\n",
        "        with tf.compat.v1.Session() as sess:\n",
        "            # Get handles to input and output tensors\n",
        "            ops = tf.compat.v1.get_default_graph().get_operations()\n",
        "            all_tensor_names = {output.name for op in ops for output in op.outputs}\n",
        "            tensor_dict = {}\n",
        "            for key in ['num_detections', 'detection_boxes', 'detection_scores','detection_classes', 'detection_masks']:\n",
        "                tensor_name = key + ':0'\n",
        "                if tensor_name in all_tensor_names:\n",
        "                    tensor_dict[key] = tf.compat.v1.get_default_graph().get_tensor_by_name(tensor_name)\n",
        "            if 'detection_masks' in tensor_dict:\n",
        "                # The following processing is only for single image\n",
        "                detection_boxes = tf.squeeze(tensor_dict['detection_boxes'], [0])\n",
        "                detection_masks = tf.squeeze(tensor_dict['detection_masks'], [0])\n",
        "                # Reframe is required to translate mask from box coordinates to image coordinates and fit the image size.\n",
        "                real_num_detection = tf.cast(tensor_dict['num_detections'][0], tf.int32)\n",
        "                detection_boxes = tf.slice(detection_boxes, [0, 0], [real_num_detection, -1])\n",
        "                detection_masks = tf.slice(detection_masks, [0, 0, 0], [real_num_detection, -1, -1])\n",
        "                detection_masks_reframed = utils_ops.reframe_box_masks_to_image_masks(detection_masks, detection_boxes, image.shape[1], image.shape[2])\n",
        "                detection_masks_reframed = tf.cast(tf.greater(detection_masks_reframed, 0.5), tf.uint8)\n",
        "                # Follow the convention by adding back the batch dimension\n",
        "                tensor_dict['detection_masks'] = tf.expand_dims(detection_masks_reframed, 0)\n",
        "            image_tensor = tf.compat.v1.get_default_graph().get_tensor_by_name('image_tensor:0')\n",
        "            # Run inference\n",
        "            output_dict = sess.run(tensor_dict,feed_dict={image_tensor: image})\n",
        "            \n",
        "            # all outputs are float32 numpy arrays, so convert types as appropriate\n",
        "            output_dict['num_detections'] = int(output_dict['num_detections'][0])\n",
        "            output_dict['detection_classes'] = output_dict['detection_classes'][0].astype(np.int64)\n",
        "            output_dict['detection_boxes'] = output_dict['detection_boxes'][0]\n",
        "            output_dict['detection_scores'] = output_dict['detection_scores'][0]\n",
        "            if 'detection_masks' in output_dict:\n",
        "                output_dict['detection_masks'] = output_dict['detection_masks'][0]\n",
        "    return output_dict"
      ],
      "execution_count": 7,
      "outputs": []
    },
    {
      "cell_type": "code",
      "metadata": {
        "id": "FBdweVtex3Is"
      },
      "source": [
        "\n",
        "category_index = label_map_util.create_category_index_from_labelmap(PATH_TO_LABELS, use_display_name=True)\n",
        "detection_graph = tf.Graph()\n",
        "with detection_graph.as_default():\n",
        "    od_graph_def = tf.compat.v1.GraphDef() \n",
        "    with tf.gfile.GFile(PATH_TO_FROZEN_GRAPH, 'rb') as fid:\n",
        "        serialized_graph = fid.read()\n",
        "        od_graph_def.ParseFromString(serialized_graph)\n",
        "        tf.import_graph_def(od_graph_def, name='')"
      ],
      "execution_count": 10,
      "outputs": []
    },
    {
      "cell_type": "code",
      "metadata": {
        "id": "nDzXakbuyAD8",
        "colab": {
          "base_uri": "https://localhost:8080/"
        },
        "outputId": "12f216de-0ade-469a-ab15-8b1c6e3efe05"
      },
      "source": [
        "input_directory = 'test_images/'\n",
        "orgimg_list = []   \n",
        "load_images_to_array(input_directory)\n",
        "input_directory = input_directory #get the images path with folder\n",
        "print('*************************Total ',len(orgimg_list),' images in here*************************')\n",
        "PATH_TO_TEST_IMAGES_DIR = input_directory\n",
        "TEST_IMAGE_PATHS = []\n",
        "image_list = [] \n",
        "for orgimg in orgimg_list:\n",
        "    TEST_IMAGE_PATHS.append(os.path.join(PATH_TO_TEST_IMAGES_DIR, orgimg))\n",
        "print('image_list = ',TEST_IMAGE_PATHS)\n",
        "\n",
        "image_count = 1\n",
        "print('******************detection start******************')\n",
        "\n",
        "#image list for return\n",
        "return_dic = {}\n",
        "for image_path in TEST_IMAGE_PATHS:\n",
        "    print('processing image: ',image_count,'/ ',len(TEST_IMAGE_PATHS),'.....','\\nimage path:',image_path)\n",
        "    image = Image.open(image_path)\n",
        "\n",
        "    # the array based representation of the image will be used later in order to prepare the\n",
        "    # result image with boxes and labels on it.\n",
        "    if image.format == \"PNG\":\n",
        "        #sRGB convert to RGB\n",
        "        image = image.convert('RGB')\n",
        "    image_np = load_image_into_numpy_array(image)\n",
        "    # Expand dimensions since the model expects images to have shape: [1, None, None, 3]\n",
        "    image_np_expanded = np.expand_dims(image_np, axis=0)\n",
        "    # Actual detection.\n",
        "    output_dict = run_inference_for_single_image(image_np_expanded, detection_graph)\n",
        "    # Visualization of the results of a detection.\n",
        "    vis_util.visualize_boxes_and_labels_on_image_array(\n",
        "        image_np,\n",
        "        output_dict['detection_boxes'],\n",
        "        output_dict['detection_classes'],\n",
        "        output_dict['detection_scores'],\n",
        "        category_index,\n",
        "        instance_masks=output_dict.get('detection_masks'),\n",
        "        use_normalized_coordinates=True,\n",
        "        line_thickness=3)#To change the line width of boxes: thickness=4 (change to number what you want) deafult is 4 \n",
        "\n",
        "    plt.axis('off')\n",
        "    #get the box coordinates\n",
        "    boxes = output_dict['detection_boxes']\n",
        "    # get all boxes from an array\n",
        "    max_boxes_to_draw = boxes.shape[0]\n",
        "    # get scores to get a threshold\n",
        "    scores = output_dict['detection_scores']\n",
        "    #Accuracy rate default 0.5\n",
        "    min_score_thresh=.5\n",
        "    #image array to store the box frame eg:\"image_name1\":[{\"Land\": [0.36901385, 0.2333157, 0.5195253, 0.3745013]}...]\n",
        "    image_list = [] \n",
        "    #plate list since one image may have more than one plate\n",
        "    plate_num_list = []\n",
        "    \n",
        "    #record the plate position on the image \n",
        "    position_x_min_list = []\n",
        "    position_y_min_list = []\n",
        "    \n",
        "    #iterate over all objects found\n",
        "    #loop all the objects \n",
        "    for i in range(min(max_boxes_to_draw, boxes.shape[0])):\n",
        "        if scores is None or scores[i] > min_score_thresh:\n",
        "            # boxes[i] is the box which will be drawn\n",
        "            class_name = category_index[output_dict['detection_classes'][i]]['name']                \n",
        "            \n",
        "            #output_dict['detection_boxes']: ymin, xmin, ymax, xmax\n",
        "            # ymin = yStart, xmin = xStart, ymax = yEnd , xmax = xEnd \n",
        "            ymin = boxes[i][0]\n",
        "            xmin = boxes[i][1]\n",
        "            ymax = boxes[i][2]\n",
        "            xmax = boxes[i][3]\n",
        "            #detected box area to image\n",
        "            (d_ymin,d_xmin,d_ymax,d_xmax) = (ymin*image.height,xmin*image.width,ymax*image.height,xmax*image.width)\n",
        "            cropped_image = tf.image.crop_to_bounding_box(image_np,int(d_ymin),int(d_xmin),int(d_ymax - d_ymin),int(d_xmax - d_xmin))\n",
        "            with tf.compat.v1.Session() as sess:\n",
        "                detect_cropped_image = sess.run(cropped_image)\n",
        "                \n",
        "                #image rgb to gary\n",
        "                gray = cv2.cvtColor(detect_cropped_image, cv2.COLOR_BGR2GRAY)\n",
        "                gray = cv2.threshold(gray, 0, 255,cv2.THRESH_BINARY | cv2.THRESH_OTSU)[1]\n",
        "                gray = cv2.medianBlur(gray, 3)\n",
        "                \n",
        "                #image to text white list for text\n",
        "                custom_config = r'-c tessedit_char_whitelist=ABCDEFGHJKLMNPQRSTUVWXYZ1234567890 --psm 6'\n",
        "                #record the x \n",
        "                position_x_min_list.append(xmin)\n",
        "                position_y_min_list.append(ymin)\n",
        "                \n",
        "                \n",
        "                #plate_path = out_dir_plate + '/' + orgimg_list[image_count-1]\n",
        "                #cv2.imwrite(plate_path,gray)\n",
        "                \n",
        "            \n",
        "            #return json format\n",
        "            img_dic = {class_name: [d_ymin,d_xmin,d_ymax,d_xmax],'plate_num':\"\"}\n",
        "            image_list.append(img_dic)\n",
        "            print(img_dic)\n",
        "            \n",
        "        return_dic[orgimg_list[image_count-1]] = image_list #add array to Dictionary\n",
        "\n",
        "    #change format to image \n",
        "    im = Image.fromarray(image_np)\n",
        "    \n",
        "    #draw plate num to image\n",
        "    for img_dir in image_list:\n",
        "        car_plate_position = img_dir['Car_Plate']\n",
        "        car_plate_num = img_dir['plate_num']\n",
        "        draw = ImageDraw.Draw(im)\n",
        "        margin_y = 100\n",
        "        draw.text((car_plate_position[1], car_plate_position[0]), car_plate_num, font=font, fill='red') \n",
        "        \n",
        "    \n",
        "    #show the img\n",
        "    plt.imshow(im)\n",
        "    plt.show()\n",
        "    im.save(r'output_images/%s' % orgimg_list[image_count-1])\n",
        "    \n",
        "    img = cv2.imread(r'output_images/%s' % orgimg_list[image_count-1])\n",
        "    cropped = img[int(car_plate_position[0]):int(car_plate_position[2]), int(car_plate_position[1]):int(car_plate_position[3])]  # 裁剪坐标为[y0:y1, x0:x1]\n",
        "    #print(int(car_plate_position[2]))\n",
        "    cv2.imwrite(r'output_images/%s' % orgimg_list[image_count-1], cropped)\n",
        "\n",
        "    result = reader.readtext(r'output_images/%s' % orgimg_list[image_count-1])\n",
        "    plate_num=\"\"\n",
        "    for single_result in result:\n",
        "        plate_num =plate_num+str(single_result[1])\n",
        "    plate_num =plate_num.replace(\" \",\"\")\n",
        "    print('plate number = ',plate_num)\n",
        "\n",
        "    print('image',image_count,'/',len(orgimg_list),'finished.....')\n",
        "    image_count+=1\n",
        "    \n",
        "    \n",
        "print('******************Detection complete.******************')"
      ],
      "execution_count": 15,
      "outputs": [
        {
          "output_type": "stream",
          "text": [
            "*************************Total  6  images in here*************************\n",
            "image_list =  ['test_images/微信图片_20210608001640.jpg', 'test_images/q1.jpg', 'test_images/微信图片_20210608001656.jpg', 'test_images/微信图片_20210608001653.jpg', 'test_images/微信图片_20210608001650.jpg', 'test_images/微信图片_20210608001646.jpg']\n",
            "******************detection start******************\n",
            "processing image:  1 /  6 ..... \n",
            "image path: test_images/微信图片_20210608001640.jpg\n",
            "{'Car_Plate': [132.09690856933594, 178.87219190597534, 182.18386790156364, 325.7833957672119], 'plate_num': ''}\n",
            "plate number =  HAPPY\n",
            "image 1 / 6 finished.....\n",
            "processing image:  2 /  6 ..... \n",
            "image path: test_images/q1.jpg\n",
            "{'Car_Plate': [524.0117101669312, 686.7300635576248, 676.2717460393906, 942.4857580661774], 'plate_num': ''}\n",
            "plate number =  VV7621\n",
            "image 2 / 6 finished.....\n",
            "processing image:  3 /  6 ..... \n",
            "image path: test_images/微信图片_20210608001656.jpg\n",
            "{'Car_Plate': [401.1873290538788, 157.0517122745514, 453.19223177433014, 291.7634844779968], 'plate_num': ''}\n",
            "plate number =  AM6689\n",
            "image 3 / 6 finished.....\n",
            "processing image:  4 /  6 ..... \n",
            "image path: test_images/微信图片_20210608001653.jpg\n",
            "{'Car_Plate': [279.2901849746704, 135.16952991485596, 346.2165570259094, 471.0162878036499], 'plate_num': ''}\n",
            "{'Car_Plate': [280.17711639404297, 153.93437147140503, 342.5493550300598, 352.6078462600708], 'plate_num': ''}\n",
            "plate number =  SCARF/\n",
            "image 4 / 6 finished.....\n",
            "processing image:  5 /  6 ..... \n",
            "image path: test_images/微信图片_20210608001650.jpg\n",
            "{'Car_Plate': [1031.7092895507812, 267.9967403411865, 1109.9481201171875, 541.8315124511719], 'plate_num': ''}\n",
            "plate number =  HAHA\n",
            "image 5 / 6 finished.....\n",
            "processing image:  6 /  6 ..... \n",
            "image path: test_images/微信图片_20210608001646.jpg\n",
            "{'Car_Plate': [133.1249350309372, 108.07974576950073, 150.8890951871872, 184.39696300029755], 'plate_num': ''}\n",
            "plate number =  2NDGF\n",
            "image 6 / 6 finished.....\n",
            "******************Detection complete.******************\n"
          ],
          "name": "stdout"
        }
      ]
    }
  ]
}